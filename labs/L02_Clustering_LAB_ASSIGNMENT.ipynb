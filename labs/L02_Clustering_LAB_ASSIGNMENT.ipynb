{
  "nbformat": 4,
  "nbformat_minor": 0,
  "metadata": {
    "colab": {
      "private_outputs": true,
      "provenance": [],
      "collapsed_sections": []
    },
    "kernelspec": {
      "name": "python3",
      "display_name": "Python 3"
    },
    "language_info": {
      "name": "python"
    }
  },
  "cells": [
    {
      "cell_type": "code",
      "source": [
        "import numpy as np\n",
        "from matplotlib import pyplot as plt"
      ],
      "metadata": {
        "id": "8bPV9aEwTKC8"
      },
      "execution_count": null,
      "outputs": []
    },
    {
      "cell_type": "code",
      "source": [
        "RANDOM_SEED = 0x0"
      ],
      "metadata": {
        "id": "jFHJbjkfeepf"
      },
      "execution_count": null,
      "outputs": []
    },
    {
      "cell_type": "markdown",
      "source": [
        "# TASK 1 (3 Points): K-Means using scikit-learn"
      ],
      "metadata": {
        "id": "PeKVmElId1GV"
      }
    },
    {
      "cell_type": "markdown",
      "source": [
        "First we will generate some data. The variable `X` will contain the data used in this section."
      ],
      "metadata": {
        "id": "mxVgesOod7-p"
      }
    },
    {
      "cell_type": "code",
      "source": [
        "from sklearn.datasets import make_blobs"
      ],
      "metadata": {
        "id": "8x-oK1d5eDS9"
      },
      "execution_count": null,
      "outputs": []
    },
    {
      "cell_type": "code",
      "source": [
        "X, _ = make_blobs(\n",
        "    n_samples=300,\n",
        "    centers=4,\n",
        "    cluster_std=.6,\n",
        "    random_state=RANDOM_SEED,\n",
        ")\n",
        "\n",
        "plt.scatter(X[:, 0], X[:, 1], s=50)"
      ],
      "metadata": {
        "id": "nVE6ffy8eM_L"
      },
      "execution_count": null,
      "outputs": []
    },
    {
      "cell_type": "markdown",
      "source": [
        "### Task 1a\n",
        "\n",
        "Cluster the above data using the K-Means implementation provided by scikit-learn.\n",
        "Refer to the official documentation: <https://scikit-learn.org/stable/modules/generated/sklearn.cluster.KMeans.html>\n",
        "\n",
        "* create an instance of the class `sklearn.cluster.KMeans`\n",
        "* choose a suitable value for the `n_clusters` parameter\n",
        "* call the `.fit` method to compute the clustering\n",
        "* call the `.predict` method to get cluster labels for each data point"
      ],
      "metadata": {
        "id": "zCIJgMccfP62"
      }
    },
    {
      "cell_type": "code",
      "source": [
        "from sklearn.cluster import KMeans"
      ],
      "metadata": {
        "id": "2GhgP1ZSjdcW"
      },
      "execution_count": null,
      "outputs": []
    },
    {
      "cell_type": "code",
      "source": [
        "kmeans = KMeans(init=\"random\",n_clusters=4,n_init=10,max_iter=300,random_state=RANDOM_SEED).fit(X)"
      ],
      "metadata": {
        "id": "ixzy1RLDKW6v"
      },
      "execution_count": null,
      "outputs": []
    },
    {
      "cell_type": "code",
      "source": [
        "cluster_labels = kmeans.predict(X)\n"
      ],
      "metadata": {
        "id": "hMVRRPf3KYHW"
      },
      "execution_count": null,
      "outputs": []
    },
    {
      "cell_type": "markdown",
      "source": [
        "### Task 1b\n",
        "\n",
        "Visualize the resulting clustering.\n",
        "\n",
        "* use the `plt.scatter` function (see: <https://matplotlib.org/stable/api/_as_gen/matplotlib.pyplot.scatter.html>)\n",
        "* set the color parameter `c` to the cluster labels you computed above\n",
        "\n",
        "* Optional: also plot the cluster centers (hint: call `plt.scatter` a second time, the cluster centers are stored in the `.cluster_centers_` member of the `KMeans` object)"
      ],
      "metadata": {
        "id": "eXYqBlltiBmb"
      }
    },
    {
      "cell_type": "code",
      "source": [
        "plt.scatter(X[:,0], X[:,1], c=cluster_labels, s=50)\n",
        "plt.scatter(kmeans.cluster_centers_[:,0],kmeans.cluster_centers_[:,1], c=\"magenta\", marker='x',s=200,alpha=0.8)\n"
      ],
      "metadata": {
        "id": "htvxTeoiKQ35"
      },
      "execution_count": null,
      "outputs": []
    },
    {
      "cell_type": "markdown",
      "source": [
        "### Task 1c\n",
        "\n",
        "Try different numbers of clusters and print the average silhouette scores using\n",
        "`sklearn.metrics.silhouette_score`. Refer to the documentation: <https://scikit-learn.org/stable/modules/generated/sklearn.metrics.silhouette_score.html#sklearn.metrics.silhouette_score>\n",
        "\n",
        "* What does the silhouette score tell you?\n",
        "* What conclusions do you draw from the numbers?\n"
      ],
      "metadata": {
        "id": "21Kp9bM8jTbv"
      }
    },
    {
      "cell_type": "code",
      "source": [
        "from sklearn.metrics import silhouette_score"
      ],
      "metadata": {
        "id": "s5zTrdAIjrnA"
      },
      "execution_count": null,
      "outputs": []
    },
    {
      "cell_type": "code",
      "source": [
        "kmeans6 = KMeans(init=\"random\",n_clusters=6,n_init=10,max_iter=300,random_state=RANDOM_SEED).fit(X)\n",
        "cluster_labels6 = kmeans6.predict(X)\n",
        "plt.scatter(X[:,0], X[:,1], c=cluster_labels6, s=50)\n",
        "plt.scatter(kmeans6.cluster_centers_[:,0],kmeans6.cluster_centers_[:,1], c=\"magenta\", marker='x',s=200,alpha=0.8)\n",
        "print(\"The silhouette score is: \",silhouette_score(X,cluster_labels6,metric=\"euclidean\"))"
      ],
      "metadata": {
        "id": "UlzaR0UsWsEz"
      },
      "execution_count": null,
      "outputs": []
    },
    {
      "cell_type": "code",
      "source": [
        "kmeans8 = KMeans(init=\"random\",n_clusters=8,n_init=10,max_iter=300,random_state=RANDOM_SEED).fit(X)\n",
        "cluster_labels8 = kmeans8.predict(X)\n",
        "plt.scatter(X[:,0], X[:,1], c=cluster_labels8, s=50)\n",
        "plt.scatter(kmeans8.cluster_centers_[:,0],kmeans8.cluster_centers_[:,1], c=\"magenta\", marker='x',s=200,alpha=0.8)\n",
        "print(\"The silhouette score is: \",silhouette_score(X,cluster_labels8,metric=\"euclidean\"))"
      ],
      "metadata": {
        "id": "rSELsuvVZSnT"
      },
      "execution_count": null,
      "outputs": []
    },
    {
      "cell_type": "code",
      "source": [
        "kmeans3 = KMeans(init=\"random\",n_clusters=3,n_init=10,max_iter=300,random_state=RANDOM_SEED).fit(X)\n",
        "cluster_labels3 = kmeans3.predict(X)\n",
        "plt.scatter(X[:,0], X[:,1], c=cluster_labels3, s=50)\n",
        "plt.scatter(kmeans3.cluster_centers_[:,0],kmeans3.cluster_centers_[:,1], c=\"magenta\", marker='x',s=200,alpha=0.8)\n",
        "print(\"The silhouette score is: \",silhouette_score(X,cluster_labels3,metric=\"euclidean\"))"
      ],
      "metadata": {
        "id": "2Vi15deLZf6X"
      },
      "execution_count": null,
      "outputs": []
    },
    {
      "cell_type": "code",
      "source": [
        "kmeans2 = KMeans(init=\"random\",n_clusters=2,n_init=10,max_iter=300,random_state=RANDOM_SEED).fit(X)\n",
        "cluster_labels2 = kmeans2.predict(X)\n",
        "plt.scatter(X[:,0], X[:,1], c=cluster_labels2, s=50)\n",
        "plt.scatter(kmeans2.cluster_centers_[:,0],kmeans2.cluster_centers_[:,1], c=\"magenta\", marker='x',s=200,alpha=0.8)\n",
        "print(\"The silhouette score is: \",silhouette_score(X,cluster_labels2,metric=\"euclidean\"))"
      ],
      "metadata": {
        "id": "hRWlM2y_bcS3"
      },
      "execution_count": null,
      "outputs": []
    },
    {
      "cell_type": "code",
      "source": [
        "kmeans_kwargs = {\n",
        "\"init\": \"random\",\n",
        "\"n_init\": 10,\n",
        "\"max_iter\": 300,\n",
        "\"random_state\": RANDOM_SEED,\n",
        "}\n",
        "sse = []\n",
        "for k in range(1, 11):\n",
        "  kmeans = KMeans(n_clusters=k, **kmeans_kwargs)\n",
        "  kmeans.fit(X)\n",
        "  sse.append(kmeans.inertia_)\n"
      ],
      "metadata": {
        "id": "UGj-snxKv1-B"
      },
      "execution_count": null,
      "outputs": []
    },
    {
      "cell_type": "code",
      "source": [
        "plt.style.use(\"fivethirtyeight\")\n",
        "plt.plot(range(1, 11), sse)\n",
        "plt.xticks(range(1, 11))\n",
        "plt.xlabel(\"Number of Clusters\")\n",
        "plt.show()\n"
      ],
      "metadata": {
        "id": "8jpdMrz9l89x"
      },
      "execution_count": null,
      "outputs": []
    },
    {
      "cell_type": "markdown",
      "source": [
        "Silhouette Coefficient = Calculated via Mean of intra-cluster distance & mean nearest-cluster distance, it is used to measure how similar an object is to its own cluster compared to other cluster.\n",
        "\n",
        "1 = best  \n",
        "-1 = worst  \n",
        "near 0 = overlapping clusters  \n",
        "\n",
        "Conclusion = The best seems to be a cluster of 4 with 0.68 Score"
      ],
      "metadata": {
        "id": "rbqaFoNtam2z"
      }
    },
    {
      "cell_type": "markdown",
      "source": [
        "## 📢 **HAND-IN** 📢: Report in Moodle whether you solved this task."
      ],
      "metadata": {
        "id": "YGMDRdH1fp2P"
      }
    },
    {
      "cell_type": "markdown",
      "source": [
        "The silhouette score calculates the mean of the distance between the clusters and the mean of the nearest cluster distance."
      ],
      "metadata": {
        "id": "mBzAlzy4ZyDt"
      }
    },
    {
      "cell_type": "markdown",
      "source": [
        "# TASK 2 (2 Points): DBSCAN\n",
        "\n",
        "First, let's setup the data used in this section. We will redefine the variable `X` containing the data to be clustered."
      ],
      "metadata": {
        "id": "7wCCr_SqjGb3"
      }
    },
    {
      "cell_type": "code",
      "source": [
        "from sklearn.datasets import make_moons"
      ],
      "metadata": {
        "id": "kAkWhmjYlwJc"
      },
      "execution_count": null,
      "outputs": []
    },
    {
      "cell_type": "code",
      "source": [
        "X2, _ = make_moons(\n",
        "    n_samples=200,\n",
        "    noise=.05,\n",
        "    random_state=RANDOM_SEED,\n",
        ")"
      ],
      "metadata": {
        "id": "JeZgx1Rnl1iS"
      },
      "execution_count": null,
      "outputs": []
    },
    {
      "cell_type": "code",
      "source": [
        "plt.scatter(X2[:, 0], X2[:, 1], s=50)"
      ],
      "metadata": {
        "id": "MmdUwMF8l9Vg"
      },
      "execution_count": null,
      "outputs": []
    },
    {
      "cell_type": "markdown",
      "source": [
        "### Task 2a\n",
        "\n",
        "* cluster the new data `X` using `KMeans`\n",
        "* set `n_clusters=2`\n",
        "* visualize and analyse the resulting clustering\n",
        "* What do you think of the result? Did something go wrong?"
      ],
      "metadata": {
        "id": "AtivNvrGoF9v"
      }
    },
    {
      "cell_type": "code",
      "source": [
        "kmeans_task2 = KMeans(init=\"random\",n_clusters=2,n_init=10,max_iter=300,random_state=RANDOM_SEED).fit(X2)\n",
        "cluster_labels_task2 = kmeans_task2.predict(X2)\n",
        "plt.scatter(X2[:,0], X2[:,1], c=cluster_labels_task2, s=50)\n",
        "\n"
      ],
      "metadata": {
        "id": "BOT5A1awdIO2"
      },
      "execution_count": null,
      "outputs": []
    },
    {
      "cell_type": "markdown",
      "source": [
        "Result="
      ],
      "metadata": {
        "id": "29m-ZTO_fSpu"
      }
    },
    {
      "cell_type": "markdown",
      "source": [
        "### Task 2b\n",
        "\n",
        "Let's use `sklearn.cluster.DBSCAN` instead. Refer to the documentation: <https://scikit-learn.org/stable/modules/generated/sklearn.cluster.DBSCAN.html>\n",
        "\n",
        "* cluster the data using `DBSCAN`\n",
        "* try different values for `eps` and `min_samples` until you can cluster the two half-moons"
      ],
      "metadata": {
        "id": "yBr9_643pOMG"
      }
    },
    {
      "cell_type": "code",
      "source": [
        "from sklearn.cluster import DBSCAN"
      ],
      "metadata": {
        "id": "42OURwFappgN"
      },
      "execution_count": null,
      "outputs": []
    },
    {
      "cell_type": "code",
      "source": [
        "dbscan = DBSCAN(eps=0.5, min_samples=1, metric=\"euclidean\").fit(X2)\n",
        "dbscan_labels = dbscan.labels_\n",
        "plt.scatter(X2[:, 0], X2[:,1], c = dbscan.labels_) \n"
      ],
      "metadata": {
        "id": "mNVoC5AbpuHc"
      },
      "execution_count": null,
      "outputs": []
    },
    {
      "cell_type": "code",
      "source": [
        "dbscan = DBSCAN(eps=0.2, min_samples=2, metric=\"euclidean\").fit(X2)\n",
        "dbscan_labels = dbscan.labels_\n",
        "plt.scatter(X2[:, 0], X2[:,1], c = dbscan.labels_) \n",
        "print(dbscan_labels)"
      ],
      "metadata": {
        "id": "qzfr02yEnqC5"
      },
      "execution_count": null,
      "outputs": []
    },
    {
      "cell_type": "code",
      "source": [
        "dbscan = DBSCAN(eps=0.1, min_samples=2, metric=\"euclidean\").fit(X2)\n",
        "dbscan_labels = dbscan.labels_\n",
        "plt.scatter(X2[:, 0], X2[:,1], c = dbscan.labels_) \n",
        "print(dbscan_labels)"
      ],
      "metadata": {
        "id": "wlw1CScvQMHj"
      },
      "execution_count": null,
      "outputs": []
    },
    {
      "cell_type": "markdown",
      "source": [
        "## 📢 **HAND-IN** 📢: Report in Moodle whether you solved this task."
      ],
      "metadata": {
        "id": "jLTk8tewf_Ec"
      }
    },
    {
      "cell_type": "markdown",
      "source": [
        "# Task 3 (6 Points): Color Clustering in Images\n",
        "\n",
        "In class you have seen how we can use K-Means for image compression. In this task we ask you to apply this compression technique to an image.\n",
        "\n",
        "We provide some useful helper functions below. Read the comments in the code carefully, but do not worry if you don't understand it all.\n"
      ],
      "metadata": {
        "id": "i5-u-CYJrOmE"
      }
    },
    {
      "cell_type": "code",
      "execution_count": null,
      "metadata": {
        "id": "eR8NMgX9VN8N"
      },
      "outputs": [],
      "source": [
        "from PIL import Image\n",
        "import requests\n",
        "from io import BytesIO"
      ]
    },
    {
      "cell_type": "code",
      "source": [
        "def download_img(url: str) -> Image:\n",
        "  \"\"\"\n",
        "  This function fetches an image from the internet and returns a PIL.Image object\n",
        "  see: https://pillow.readthedocs.io/en/stable/reference/Image.html\n",
        "\n",
        "  we tested it mainly on images from wikimedia\n",
        "  \"\"\"\n",
        "\n",
        "  # have to set a fake user-agent so we dont get blocked by wikimedia\n",
        "  headers = {'User-Agent': 'Mozilla/5.0 (Windows NT 10.0; Win64; x64) AppleWebKit/537.36 (KHTML, like Gecko) Chrome/102.0.0.0 Safari/537.36'}\n",
        "  r = requests.get(url, headers=headers)\n",
        "  if r.status_code != 200:\n",
        "    # if you hit this exception, consider using another image\n",
        "    raise Exception(f\"download failed:\\n{url}\")\n",
        "  \n",
        "  return Image.open(BytesIO(r.content)).convert(\"RGB\")\n",
        "\n",
        "def img2arr(img: Image) -> np.array:\n",
        "  \"\"\"\n",
        "  convert a PIL.Image object to a numpy array\n",
        "  the resulting array has 3 dimensions [height, width, 3]\n",
        "  the last dimension contains rgb values\n",
        "\n",
        "  the rgb values are normalized to be between 0. and 1.\n",
        "  \"\"\"\n",
        "  return np.asarray(img) / 255\n",
        "\n",
        "def arr2img(arr: np.array) -> Image:\n",
        "  \"\"\"\n",
        "  convert a numpy array back into a PIL.Image object\n",
        "  we expect the rgb values of the array to be between 0. and 1.\n",
        "  \"\"\"\n",
        "  return Image.fromarray((arr * 255).astype(np.int8), mode=\"RGB\")"
      ],
      "metadata": {
        "id": "HF-AwKGUXGTA"
      },
      "execution_count": null,
      "outputs": []
    },
    {
      "cell_type": "code",
      "source": [
        "img_url = \"https://upload.wikimedia.org/wikipedia/commons/d/d7/RGB_24bits_palette_sample_image.jpg\"\n",
        "\n",
        "img = download_img(img_url)\n",
        "\n",
        "# you can visualize a PIL.Image object directly in jupyter using `display`\n",
        "display(img)\n",
        "\n",
        "img_arr = img2arr(img)\n",
        "\n",
        "# visualize the np.array version of the same image\n",
        "plt.imshow(img_arr)"
      ],
      "metadata": {
        "id": "tt83N847XmEx"
      },
      "execution_count": null,
      "outputs": []
    },
    {
      "cell_type": "code",
      "source": [
        "from typing import Optional\n",
        "\n",
        "def rg_chromaticity(color_arr: np.array) ->  np.array:\n",
        "  \"\"\"\n",
        "  helper function\n",
        "  \"\"\"\n",
        "  sums = np.sum(color_arr, axis=1, keepdims=True)\n",
        "  normed = np.divide(color_arr, sums, where=sums > 0.)\n",
        "  return normed\n",
        "\n",
        "def rg_chroma_plot(img_arr: np.array, centers: Optional[np.array] = None):\n",
        "  \"\"\"\n",
        "  plot an image in rg-chromaticity space\n",
        "  this is a 2D representation of 3D rgb data\n",
        "  refer to wikipedia for details: https://en.wikipedia.org/wiki/Rg_chromaticity\n",
        "\n",
        "  Note: the resulting plot will not accurately reflect the original euclidean distances\n",
        "\n",
        "  inputs:\n",
        "  img_arr: a numpy array with 3 dimensions [height, width, 3] representing an image\n",
        "  centers: a numpy array with 2 dimensions [n_centers, 3] representing the cluster centers \n",
        "  \"\"\"\n",
        "  colors = np.copy(img_arr).reshape((-1, 3))\n",
        "  colors = np.unique(colors, axis=0)\n",
        "  img_rg = rg_chromaticity(colors)\n",
        "  plt.scatter(img_rg[:, 0], img_rg[:, 1], c=[tuple(colors[i]) for i in range(colors.shape[0])], s=.1)\n",
        "\n",
        "  if centers is not None:\n",
        "    crg = rg_chromaticity(centers)\n",
        "    plt.scatter(crg[:, 0], crg[:, 1], c=\"black\", marker=\"x\", s=25.)\n",
        "\n",
        "  plt.xlabel(\"red\")\n",
        "  plt.ylabel(\"green\")\n",
        "  plt.show()\n"
      ],
      "metadata": {
        "id": "yIfA2ERaZXzD"
      },
      "execution_count": null,
      "outputs": []
    },
    {
      "cell_type": "code",
      "source": [
        "rg_chroma_plot(img_arr)"
      ],
      "metadata": {
        "id": "jNqOfnfLvizg"
      },
      "execution_count": null,
      "outputs": []
    },
    {
      "cell_type": "code",
      "source": [
        "from sklearn.metrics import pairwise_distances_argmin\n",
        "\n",
        "def replace_nearest_color(img_arr: np.array, centers: np.array):\n",
        "  \"\"\"\n",
        "  replace each pixel color in `img_arr` by the closest color in `centers`\n",
        "\n",
        "  input:\n",
        "  img_arr: a numpy array with 3 dimensions [height, width, 3] representing an image\n",
        "  centers: a numpy array with 2 dimensions [n_centers, 3] representing the cluster centers \n",
        "  \"\"\"\n",
        "  colors = img_arr.reshape((-1, 3))\n",
        "  labels = pairwise_distances_argmin(colors, centers)\n",
        "  compressed = labels.reshape(img_arr.shape[:2])\n",
        "  replaced = centers[compressed]\n",
        "  return replaced\n"
      ],
      "metadata": {
        "id": "FnAI7vWQHlop"
      },
      "execution_count": null,
      "outputs": []
    },
    {
      "cell_type": "code",
      "source": [
        "# generate 8 random colors for illustration\n",
        "random_centers = np.random.default_rng(RANDOM_SEED).random(size=(8, 3))\n",
        "\n",
        "# plot the random centers on top of the colors of the image\n",
        "rg_chroma_plot(img_arr, random_centers)\n",
        "\n",
        "# replace original colors by their nearest neighbors out of the candidate centers\n",
        "replaced = replace_nearest_color(img_arr, random_centers)\n",
        "\n",
        "# convert to PIL.Image and visualize\n",
        "display(arr2img(replaced))"
      ],
      "metadata": {
        "id": "LyNurmBNLvR_"
      },
      "execution_count": null,
      "outputs": []
    },
    {
      "cell_type": "markdown",
      "source": [
        "### Task 3 (continued)\n",
        "\n",
        "* use an image from [wikimedia](https://commons.wikimedia.org/wiki/Main_Page) to compress. Make sure that it is not too big, e.g. less than 1000px per side\n",
        "\n",
        "* you can also use the image we used in the example above\n",
        "\n",
        "* download the image and convert it to a numpy array using `download_img` and `img2arr`  \n",
        "\n",
        "* cluster the colors in the image using `KMeans` \n",
        "\n",
        "* choose the appropriate parameters and verify them (e.g. using `silhouette_score` or the elbow method)\n",
        "\n",
        "* visualize your final cluster centers using `rg_chroma_plot` (see example usage above)\n",
        "\n",
        "* replace the colors of the original image by their nearest center using `replace_nearest_color` and display the result (see example usage above)\n",
        "\n",
        "### Tips\n",
        "\n",
        "* you will run into problems with array shapes, as the images have 3 dimensions but the clustering algorithms expect 2. You can use [np.reshape](https://numpy.org/doc/stable/reference/generated/numpy.reshape.html) to manipulate array dimensions.\n",
        "* To download the images you can right-click and save them to your computer."
      ],
      "metadata": {
        "id": "mNU8srsXxN9a"
      }
    },
    {
      "cell_type": "code",
      "source": [],
      "metadata": {
        "id": "gq0BMxDrUSqW"
      },
      "execution_count": null,
      "outputs": []
    },
    {
      "cell_type": "markdown",
      "source": [
        "## 📢 **HAND-IN** 📢: A PDF document describing your solution: \n",
        "\n",
        "The PDF should contain\n",
        "\n",
        "* the original image you used for this task\n",
        "\n",
        "* the final image showing the replaced colors\n",
        "\n",
        "* your code for computing the clustering\n",
        "\n",
        "* short (2-3 sentences) description how you verified the clustering \n"
      ],
      "metadata": {
        "id": "Ddxi0__NgPzi"
      }
    }
  ]
}