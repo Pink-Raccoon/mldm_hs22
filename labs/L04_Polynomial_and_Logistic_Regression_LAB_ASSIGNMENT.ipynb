{
  "nbformat": 4,
  "nbformat_minor": 0,
  "metadata": {
    "colab": {
      "provenance": []
    },
    "kernelspec": {
      "name": "python3",
      "display_name": "Python 3"
    },
    "language_info": {
      "name": "python"
    }
  },
  "cells": [
    {
      "cell_type": "code",
      "execution_count": 23,
      "metadata": {
        "id": "pAJRKdv9QA4C"
      },
      "outputs": [],
      "source": [
        "import numpy as np\n",
        "import pandas as pd\n",
        "from matplotlib import pyplot as plt"
      ]
    },
    {
      "cell_type": "code",
      "source": [
        "RANDOM_SEED = 0x0"
      ],
      "metadata": {
        "id": "D1m4qcrpXdTt"
      },
      "execution_count": 24,
      "outputs": []
    },
    {
      "cell_type": "markdown",
      "source": [
        "# TASK 1: Polynomial Regression (4 Points): "
      ],
      "metadata": {
        "id": "Ia9s_Q-KXf0T"
      }
    },
    {
      "cell_type": "markdown",
      "source": [
        "Let's create and explore the data."
      ],
      "metadata": {
        "id": "VV0Z3OdeXpha"
      }
    },
    {
      "cell_type": "code",
      "source": [
        "# set the random seed to an integer, so that everyone has the same data to work with\n",
        "np.random.seed(seed=RANDOM_SEED)\n",
        "# create predictor variable, that have standard normal distribution and reshape it in order to use for the model training\n",
        "x = np.random.normal(0, 1, 100).reshape(-1, 1)\n",
        "# create target variable\n",
        "y = 3*x**3 + 2*x**2 + x + np.random.normal(0, 10, 100).reshape(-1, 1)\n"
      ],
      "metadata": {
        "id": "nb5WsezldFla"
      },
      "execution_count": 25,
      "outputs": []
    },
    {
      "cell_type": "markdown",
      "source": [
        "Visualise the data"
      ],
      "metadata": {
        "id": "E65IxT1Bwpmk"
      }
    },
    {
      "cell_type": "code",
      "source": [
        "plt.scatter(x, y)\n",
        "plt.show()"
      ],
      "metadata": {
        "colab": {
          "base_uri": "https://localhost:8080/",
          "height": 271
        },
        "id": "nCZgTYP3fZe7",
        "outputId": "89d6a9a0-78ea-4bcc-c29d-7e861636a44a"
      },
      "execution_count": 26,
      "outputs": [
        {
          "output_type": "display_data",
          "data": {
            "text/plain": [
              "<Figure size 432x288 with 1 Axes>"
            ],
            "image/png": "[encoded data removed]"
          },
          "metadata": {}
        }
      ]
    },
    {
      "cell_type": "markdown",
      "source": [
        "## Task 1a\n",
        "Apply Linear Regression on the data\n"
      ],
      "metadata": {
        "id": "Cx8aSpUnJCI7"
      }
    },
    {
      "cell_type": "markdown",
      "source": [
        "1. Split the data in the train and test set (80/20), set `random_state` to `RANDOM_SEED`."
      ],
      "metadata": {
        "id": "nvRxguOTJnjS"
      }
    },
    {
      "cell_type": "code",
      "source": [
        "from sklearn.model_selection import train_test_split\n",
        "\n",
        "X_train, X_test, y_train, y_test = train_test_split(x,y,test_size=0.8,train_size=0.2,random_state=RANDOM_SEED)\n"
      ],
      "metadata": {
        "id": "ti7myWk7KS8Z"
      },
      "execution_count": 27,
      "outputs": []
    },
    {
      "cell_type": "markdown",
      "source": [
        "2. Apply Linear Regression on the data and predict `y` values for training as well test data "
      ],
      "metadata": {
        "id": "RFSaakYLJuK7"
      }
    },
    {
      "cell_type": "code",
      "source": [
        "from sklearn.linear_model import LinearRegression \n",
        "lng = LinearRegression()\n",
        "fit_train = lng.fit(X_train,y_train)\n",
        "fit_test = lng.fit(X_test,y_test)\n",
        "\n",
        "y_pred_test=lng.predict(X_test)\n",
        "y_pred_train = lng.predict(X_train)\n"
      ],
      "metadata": {
        "id": "Ez6t4Q4P82Qo"
      },
      "execution_count": 28,
      "outputs": []
    },
    {
      "cell_type": "markdown",
      "source": [
        "3. Calculate MSE for training as well as for test data."
      ],
      "metadata": {
        "id": "P1k6VBGk8yI6"
      }
    },
    {
      "cell_type": "code",
      "source": [
        "from sklearn.metrics import mean_squared_error\n",
        "\n",
        "mse_train = mean_squared_error(y_train,y_pred_train)\n",
        "mse_test = mean_squared_error (y_test, y_pred_test)\n",
        "\n",
        "print(f\"MSE of training data: {mse_train}\")\n",
        "print(f\"MSE of test data: {mse_test}\")"
      ],
      "metadata": {
        "id": "qJGjXK8aKD8q",
        "outputId": "baec2c07-ac62-4cd5-cada-e8bffc89b212",
        "colab": {
          "base_uri": "https://localhost:8080/"
        }
      },
      "execution_count": 29,
      "outputs": [
        {
          "output_type": "stream",
          "name": "stdout",
          "text": [
            "MSE of training data: 174.20520915104117\n",
            "MSE of test data: 122.3176509271317\n"
          ]
        }
      ]
    },
    {
      "cell_type": "markdown",
      "source": [
        "4. Visualize the model. Plot all the data as well as Linear Regression predictions for training and test data."
      ],
      "metadata": {
        "id": "T0VOmhngKEQL"
      }
    },
    {
      "cell_type": "code",
      "source": [
        "plt.scatter(x,y,color='magenta',label=\"True Data\")\n",
        "plt.scatter(X_train,y_train,marker=\"^\",color='black',label=\"Training Data\")\n",
        "plt.scatter(X_test,y_test,marker=\">\",color='yellow',label=\"Testing Data\")\n",
        "plt.plot(X_test, y_pred_test,color='pink',label=\"Prediction Test Data\")\n",
        "plt.plot(X_train,y_pred_train,color='green',label=\"Prediction Train Data\")\n",
        "plt.legend()\n",
        "plt.plot()\n",
        "plt.show()"
      ],
      "metadata": {
        "id": "yLwMEWirLLBA",
        "outputId": "a39f7a84-13e7-402a-dcaa-805a4ec2dae8",
        "colab": {
          "base_uri": "https://localhost:8080/",
          "height": 271
        }
      },
      "execution_count": 30,
      "outputs": [
        {
          "output_type": "display_data",
          "data": {
            "text/plain": [
              "<Figure size 432x288 with 1 Axes>"
            ],
            "image/png": "[encoded data removed]"
          },
          "metadata": {}
        }
      ]
    },
    {
      "cell_type": "markdown",
      "source": [
        "## Task 1b\n",
        "Investigate how well polynomial regression with polynomial degrees = 2 can solve the task. In order to do so, follow these steps:\n",
        "1. Transform the data accordingly to describe polynomial distribution of degree=2\n",
        "2. Train a Linear Regression model on polynomial data\n",
        "3. Make predictions for training data\n",
        "4. Make predictions for test data\n",
        "5. Calculate MSE for training as well as test data"
      ],
      "metadata": {
        "id": "zwsmpB3oMJZf"
      }
    },
    {
      "cell_type": "code",
      "source": [
        "from sklearn.preprocessing import PolynomialFeatures\n",
        "transformed = PolynomialFeatures(degree=2)\n",
        "\n",
        "data_x_train = transformed.fit_transform(X_train)\n",
        "data_x_test = transformed.fit_transform(X_test)\n",
        "\n",
        "fit_train_poly = lng.fit(data_x_train,y_train)\n",
        "fit_test_poly = lng.fit(data_x_test,y_test)\n",
        "\n",
        "y_pred_test_poly=lng.predict(data_x_test)\n",
        "y_pred_train_poly = lng.predict(data_x_train)\n",
        "\n",
        "mse_train_poly = mean_squared_error(y_train,y_pred_train_poly)\n",
        "mse_test_poly = mean_squared_error(y_test,y_pred_test_poly)\n",
        "print(f\"MSE of training data: {mse_train_poly}\")\n",
        "print(f\"MSE of training data: {mse_test_poly}\")"
      ],
      "metadata": {
        "id": "oxni0o041MYH",
        "outputId": "df3314ce-9944-4345-f0e0-6a30d0937786",
        "colab": {
          "base_uri": "https://localhost:8080/"
        }
      },
      "execution_count": 31,
      "outputs": [
        {
          "output_type": "stream",
          "name": "stdout",
          "text": [
            "MSE of training data: 171.48305516431145\n",
            "MSE of training data: 119.02125963352458\n"
          ]
        }
      ]
    },
    {
      "cell_type": "code",
      "source": [
        "data_x_train=np.arange(0,len(data_x_train),1)\n",
        "data_x_test = np.arange(0,len(data_x_test),1)\n",
        "y_train = np.arange(0,len(y_train),1)\n",
        "y_test = np.arange(0,len(y_test),1)\n",
        "y_pred_test_poly=np.arange(0,len(y_pred_test_poly),1)\n",
        "y_pred_train_poly = np.arange(0,len(y_pred_train_poly),1)\n"
      ],
      "metadata": {
        "id": "7awcNNJFNqnT"
      },
      "execution_count": 32,
      "outputs": []
    },
    {
      "cell_type": "markdown",
      "source": [
        "6. Did it perform better than Linear Regression? Visualize the results."
      ],
      "metadata": {
        "id": "nhbIv-toOFoV"
      }
    },
    {
      "cell_type": "code",
      "source": [
        "plt.scatter(x,y,color='magenta',label=\"True Data\")\n",
        "plt.scatter(data_x_train,y_train,marker=\"^\",color='black',label=\"Training Data\")\n",
        "plt.scatter(data_x_test,y_test,marker=\"^\",color='yellow',label=\"Testing Data\")\n",
        "plt.plot(data_x_train,y_pred_train_poly,color='pink',label=\"Prediction Test Data\")\n",
        "plt.plot(data_x_test,y_pred_test_poly,color='green',label=\"Prediction Train Data\")\n",
        "plt.legend()\n",
        "plt.plot()\n",
        "plt.show()"
      ],
      "metadata": {
        "id": "yFNrIwDuOUXo",
        "outputId": "1f11858b-4a0a-4ba7-aff4-1c8a03fcc761",
        "colab": {
          "base_uri": "https://localhost:8080/",
          "height": 268
        }
      },
      "execution_count": 33,
      "outputs": [
        {
          "output_type": "display_data",
          "data": {
            "text/plain": [
              "<Figure size 432x288 with 1 Axes>"
            ],
            "image/png": "[encoded data removed]"
          },
          "metadata": {}
        }
      ]
    },
    {
      "cell_type": "markdown",
      "source": [
        "#Polynom degree 3\n",
        "MSE of training data: 174.20520915104117  \n",
        "MSE of test data: 122.3176509271317  \n",
        "\n",
        "#Polynom degree 2\n",
        "MSE of training data: 171.48305516431145  \n",
        "MSE of training data: 119.02125963352458  \n",
        "\n",
        "Since MSE with degree 2 is lower it performs better\n",
        "\n"
      ],
      "metadata": {
        "id": "CX4hzQinAKTQ"
      }
    },
    {
      "cell_type": "markdown",
      "source": [
        "## Task 1c\n",
        "Investigate the influence of polynomial degrees on the results. Consider degrees in range(0, 11). Plot MSE (on training as well as test data) depending on the number of the polynomial degrees. "
      ],
      "metadata": {
        "id": "lR_v9mTWOVNj"
      }
    },
    {
      "cell_type": "code",
      "source": [
        "X_train, X_test, y_train, y_test = train_test_split(x,y,test_size=0.8,train_size=0.2,random_state=RANDOM_SEED)\n",
        "for i in range(0,11):\n",
        "  print(i)\n",
        "  poly = PolynomialFeatures(degree=i)\n",
        "  data_train = poly.fit_transform(X_train)\n",
        "  data_test = poly.fit_transform(X_test)\n",
        "\n",
        "  fit_train_poly = lng.fit(data_train,y_train)\n",
        "  fit_test_poly = lng.fit(data_test,y_test)\n",
        "\n",
        "  y_pred_test_polynom=lng.predict(data_test)\n",
        "  y_pred_train_polynom = lng.predict(data_train)\n",
        "\n",
        "\n",
        "\n",
        "  mse_train_polynom = mean_squared_error(y_train,y_pred_train_polynom)\n",
        "  mse_test_polynom = mean_squared_error(y_test,y_pred_test_polynom)\n",
        "\n",
        "  print(f\"MSE of training data: {mse_train_polynom}\")\n",
        "  print(f\"MSE of training data: {mse_test_polynom}\")\n",
        "\n",
        "\n"
      ],
      "metadata": {
        "id": "4YFTQqWZO_Jx",
        "outputId": "027d4527-a7f7-4a87-fb55-d5daff500642",
        "colab": {
          "base_uri": "https://localhost:8080/"
        }
      },
      "execution_count": 34,
      "outputs": [
        {
          "output_type": "stream",
          "name": "stdout",
          "text": [
            "0\n",
            "MSE of training data: 216.05595126967356\n",
            "MSE of training data: 250.00687409105666\n",
            "1\n",
            "MSE of training data: 174.2052091510412\n",
            "MSE of training data: 122.31765092713172\n",
            "2\n",
            "MSE of training data: 171.48305516431145\n",
            "MSE of training data: 119.02125963352458\n",
            "3\n",
            "MSE of training data: 147.0368249747566\n",
            "MSE of training data: 95.3369773977764\n",
            "4\n",
            "MSE of training data: 142.26460090284024\n",
            "MSE of training data: 94.55577545995791\n",
            "5\n",
            "MSE of training data: 136.12410712036865\n",
            "MSE of training data: 93.29012824686954\n",
            "6\n",
            "MSE of training data: 132.8509098811379\n",
            "MSE of training data: 92.47885943680993\n",
            "7\n",
            "MSE of training data: 128.85067941521993\n",
            "MSE of training data: 91.8125689073749\n",
            "8\n",
            "MSE of training data: 131.39821137516583\n",
            "MSE of training data: 90.68975799979309\n",
            "9\n",
            "MSE of training data: 131.12518738062462\n",
            "MSE of training data: 87.64341961528794\n",
            "10\n",
            "MSE of training data: 132.49126918592918\n",
            "MSE of training data: 87.55160284894251\n"
          ]
        }
      ]
    },
    {
      "cell_type": "code",
      "source": [],
      "metadata": {
        "id": "uN8AF3XJDiKt"
      },
      "execution_count": 34,
      "outputs": []
    },
    {
      "cell_type": "markdown",
      "source": [
        "## 📢 **HAND-IN** 📢: Answer following questions in Moodle:\n",
        "\n",
        "What is the optimal value of the polynomial degrees? Do the values of MSE training and MSE test behave similarly? What event takes place in the models with polynomial degrees >= 8? "
      ],
      "metadata": {
        "id": "qY6QK6OhGBVp"
      }
    },
    {
      "cell_type": "markdown",
      "source": [
        "# Task 2: Polynomial Data Transformation (1 Point)\n",
        "\n",
        "As we have seen in the lecture, Polynomial Regression is nothing other than a generalization of Linear Regression. Every polynomial Regression can be expressed as a Multivariate Linear Regression. Only transformation of the initial data has to be done.\n",
        "\n",
        " $h_\\theta(a) = \\theta_0 + \\theta_1a_1 +\\theta_2a_2 $, where\n",
        " $ a_0 = v^0, a_1 = v^1, a_2 = v^2 $\n",
        "\n",
        "In Task 1 `sklearn.preprocessing.PolynomialFeatures` transformed the X data for us. But in order to understand what exactly it is done to the data, in this task we transform an initial data array $v$ to \n",
        "the form $(a_1...a_n)$ that can be used to build a Polynomial Regression model with polynomial degrees=2 by hand (without using `sklearn.preprocessing.PolynomialFeatures`). Please transform the array $v$ and insert your answer in Moodle."
      ],
      "metadata": {
        "id": "lhOvMhs_V4cY"
      }
    },
    {
      "cell_type": "markdown",
      "source": [
        "\\begin{align}\n",
        "v=\n",
        "\\begin{bmatrix}\n",
        "3 \\\\\n",
        "2 \\\\\n",
        "0 \\\\\n",
        "\\end{bmatrix}\n",
        "\\end{align}"
      ],
      "metadata": {
        "id": "Zz4WDaq436-y"
      }
    },
    {
      "cell_type": "markdown",
      "source": [
        "a<sub>1</sub> = v<sup>1</sup> = 3  \n",
        "a<sub>2</sub> = v<sup>2</sup> = 2  \n",
        "a<sub>3</sub> = v<sup>3</sup> = 0     "
      ],
      "metadata": {
        "id": "d7ATjnj5FxdQ"
      }
    },
    {
      "cell_type": "markdown",
      "source": [
        "## 📢 **HAND-IN** 📢: Write your answer in Moodle"
      ],
      "metadata": {
        "id": "DUDUkf1uJFWf"
      }
    },
    {
      "cell_type": "markdown",
      "source": [
        "# Task 3: Logistic Regression (6 Points)"
      ],
      "metadata": {
        "id": "XO800wc-WhyJ"
      }
    },
    {
      "cell_type": "code",
      "execution_count": 35,
      "metadata": {
        "id": "prescribed-lawyer"
      },
      "outputs": [],
      "source": [
        "import pandas as pd\n",
        "import numpy as np\n",
        "import matplotlib.pyplot as plt\n",
        "from random import randrange\n",
        "import seaborn as sns\n",
        "sns.set()"
      ]
    },
    {
      "cell_type": "markdown",
      "metadata": {
        "id": "_lLze_K1g0ZA"
      },
      "source": [
        "## Task 3a. Data Exploration and Preprocessing\n",
        "\n",
        "We are using the Fashion MNIST Dataset from Zalando. \n",
        "Firstly, we load and explore the dataset.\n",
        "\n"
      ]
    },
    {
      "cell_type": "code",
      "source": [
        "from keras.datasets import fashion_mnist\n",
        "(X_train, y_train), (X_test, y_test) = fashion_mnist.load_data()\n",
        "\n",
        "print(X_train.shape)\n",
        "print(y_train.shape)\n",
        "print(X_train.dtype)\n",
        "print(y_train.dtype)"
      ],
      "metadata": {
        "colab": {
          "base_uri": "https://localhost:8080/"
        },
        "id": "wR0ijS0VZ6dk",
        "outputId": "4695b671-3e40-4a0a-c80b-42182f74ecb6"
      },
      "execution_count": 36,
      "outputs": [
        {
          "output_type": "stream",
          "name": "stdout",
          "text": [
            "(60000, 28, 28)\n",
            "(60000,)\n",
            "uint8\n",
            "uint8\n"
          ]
        }
      ]
    },
    {
      "cell_type": "code",
      "execution_count": 37,
      "metadata": {
        "id": "1fd78190-5445-4c53-9b7f-4a0f7aeaf87c"
      },
      "outputs": [],
      "source": [
        "label_names = ['T-shirt/top', 'Trouser', 'Pullover', 'Dress', 'Coat', \n",
        "               'Sandal', 'Shirt', 'Sneaker', 'Bag', 'Ankle boot']"
      ]
    },
    {
      "cell_type": "markdown",
      "source": [
        "In following task we will only use training part of the dataset."
      ],
      "metadata": {
        "id": "_9FX76IifOik"
      }
    },
    {
      "cell_type": "markdown",
      "metadata": {
        "id": "fDgGTbTMHxwN"
      },
      "source": [
        "#### Prepare data \n",
        "1. assign following datatypes to the arrays:\n",
        "   - X_train -> 'float32'\n",
        "   - y_train -> 'int64'\n",
        "2. reshape X_train to 2-dimensional array. \n",
        "Note: \n",
        "   - it should have the same amount of samples/rows.\n",
        "   - the pictures are in greyscale, it means they have only one value of color per pixel.\n",
        "3. split the training data into (X_train, y_train) and (X_valid, y_valid), set the size of the validation dataset to 20% of the data and set random state = 42."
      ]
    },
    {
      "cell_type": "code",
      "execution_count": 38,
      "metadata": {
        "id": "d3b1f9ef-da3e-445e-b8b0-8adfa6871f14",
        "outputId": "24215aaa-2aa6-44fb-f685-bbd271dd41e5",
        "colab": {
          "base_uri": "https://localhost:8080/"
        }
      },
      "outputs": [
        {
          "output_type": "stream",
          "name": "stdout",
          "text": [
            "(23520000, 2)\n"
          ]
        }
      ],
      "source": [
        "X_train = X_train.astype('float32')\n",
        "y_train = y_train.astype('int64')\n",
        "print(X_train.reshape(-1,2).shape)"
      ]
    },
    {
      "cell_type": "markdown",
      "source": [
        "#### Visualize some data \n",
        "Plot 25 images (hint: use ``imshow`` and ``subplots`` from matplotlib library), plot the label as title (e.g. shorts)."
      ],
      "metadata": {
        "id": "26YTJ4uQYE46"
      }
    },
    {
      "cell_type": "code",
      "execution_count": 39,
      "metadata": {
        "id": "1ee386c1-8502-4422-8a1c-8c852e67ac40",
        "outputId": "d3a2471c-9459-4f7a-90ce-2c2a928e68e3",
        "colab": {
          "base_uri": "https://localhost:8080/",
          "height": 184
        }
      },
      "outputs": [
        {
          "output_type": "error",
          "ename": "NameError",
          "evalue": "ignored",
          "traceback": [
            "\u001b[0;31m---------------------------------------------------------------------------\u001b[0m",
            "\u001b[0;31mNameError\u001b[0m                                 Traceback (most recent call last)",
            "\u001b[0;32m<ipython-input-39-4700e056e8f5>\u001b[0m in \u001b[0;36m<module>\u001b[0;34m\u001b[0m\n\u001b[0;32m----> 1\u001b[0;31m \u001b[0mxplt\u001b[0m\u001b[0;34m.\u001b[0m\u001b[0mfigure\u001b[0m\u001b[0;34m(\u001b[0m\u001b[0mfigsize\u001b[0m\u001b[0;34m=\u001b[0m\u001b[0;34m(\u001b[0m\u001b[0;36m10\u001b[0m\u001b[0;34m,\u001b[0m\u001b[0;36m10\u001b[0m\u001b[0;34m)\u001b[0m\u001b[0;34m)\u001b[0m\u001b[0;34m\u001b[0m\u001b[0;34m\u001b[0m\u001b[0m\n\u001b[0m\u001b[1;32m      2\u001b[0m \u001b[0;34m\u001b[0m\u001b[0m\n",
            "\u001b[0;31mNameError\u001b[0m: name 'xplt' is not defined"
          ]
        }
      ],
      "source": [
        "xplt.figure(figsize=(10,10))\n",
        "..."
      ]
    },
    {
      "cell_type": "markdown",
      "metadata": {
        "id": "b61c7d24-8e54-4827-a15f-b0ae553d5743"
      },
      "source": [
        "#### Normalize the Images\n",
        "With mean and standard deviation"
      ]
    },
    {
      "cell_type": "code",
      "execution_count": null,
      "metadata": {
        "id": "cdf0d1e7-0466-4a49-a349-6b27a9aa3662"
      },
      "outputs": [],
      "source": [
        "..."
      ]
    },
    {
      "cell_type": "markdown",
      "metadata": {
        "id": "1ca1ada5-1203-4e44-a5aa-38b512d522c6"
      },
      "source": [
        "## Task 3b. Logistic Regression\n",
        "1. Fit the `LogisticRegression` from `scikit-learn`\n",
        "2. Try different parameters (either by hand or by using `GridSearchCV`)\n",
        "\n",
        "\n",
        "**Accuracy should be >= 0.84**"
      ]
    },
    {
      "cell_type": "markdown",
      "source": [
        "If you use GridSearchCV, you could use the skeleton of the code in the next cell, otherwise, skip it. \n",
        "\n",
        "Please, check the documentation on:\n",
        "GridSearchCV: https://scikit-learn.org/stable/modules/generated/sklearn.model_selection.GridSearchCV.html\n",
        "\n",
        "PredefinedSplit: https://scikit-learn.org/stable/modules/generated/sklearn.model_selection.PredefinedSplit.html?highlight=predefinedsplit#sklearn.model_selection.PredefinedSplit"
      ],
      "metadata": {
        "id": "5Sk55fOkLhgm"
      }
    },
    {
      "cell_type": "code",
      "source": [
        "from sklearn.model_selection import GridSearchCV\n",
        "from sklearn.model_selection import PredefinedSplit\n",
        "# We use predefined split in order to control that no train samples would be used in validation step\n",
        "\n",
        "\n",
        "train_indices = np.full((X_train.shape[0],), -1, dtype=int)\n",
        "test_indices = np.full((X_valid.shape[0],), 0, dtype=int)\n",
        "\n",
        "ps = PredefinedSplit(np.append(train_indices, test_indices))\n",
        "\n",
        "...\n",
        "\n",
        "clf = LogisticRegression(...)\n",
        "opt = GridSearchCV(clf, cv=ps, ...)\n",
        "\n",
        "# when we fit the model, we should use both training and validation samples\n",
        "\n",
        "..."
      ],
      "metadata": {
        "id": "U5TiVcHmLtAy"
      },
      "execution_count": null,
      "outputs": []
    },
    {
      "cell_type": "markdown",
      "source": [
        "Use the best found parameters for the next steps."
      ],
      "metadata": {
        "id": "X5JzFGLlMvk8"
      }
    },
    {
      "cell_type": "markdown",
      "source": [
        "3. Calculate the Accuracy, Precision, Recall, and F-Score on the validation set (The metrics can be found in `scikit-learn` library)\n",
        "4. Print the confusion Matrix (hint: you can use function `heatmap()` of `seaborn` library)"
      ],
      "metadata": {
        "id": "JFqGPd65aM_l"
      }
    },
    {
      "cell_type": "code",
      "execution_count": null,
      "metadata": {
        "id": "d34138f1-d52a-4cb1-8b49-732f4d711d7a"
      },
      "outputs": [],
      "source": [
        "..."
      ]
    },
    {
      "cell_type": "markdown",
      "source": [
        "## 📢 **HAND-IN** 📢: Report in Moodle F-Score and the confusion matrix you got in this task."
      ],
      "metadata": {
        "id": "n9lT2RiDNPD2"
      }
    }
  ]
}