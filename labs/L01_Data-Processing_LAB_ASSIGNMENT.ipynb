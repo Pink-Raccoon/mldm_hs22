{
  "nbformat": 4,
  "nbformat_minor": 0,
  "metadata": {
    "colab": {
      "private_outputs": true,
      "provenance": [],
      "collapsed_sections": [],
      "include_colab_link": true
    },
    "kernelspec": {
      "name": "python3",
      "display_name": "Python 3"
    },
    "language_info": {
      "name": "python"
    }
  },
  "cells": [
    {
      "cell_type": "markdown",
      "metadata": {
        "id": "view-in-github",
        "colab_type": "text"
      },
      "source": [
        "<a href=\"https://colab.research.google.com/github/Pink-Raccoon/mldm_hs22/blob/main/labs/L01_Data-Processing_LAB_ASSIGNMENT.ipynb\" target=\"_parent\"><img src=\"https://colab.research.google.com/assets/colab-badge.svg\" alt=\"Open In Colab\"/></a>"
      ]
    },
    {
      "cell_type": "code",
      "source": [
        "import numpy as np\n",
        "from matplotlib import pyplot as plt\n",
        "import sklearn\n",
        "import pandas as pd"
      ],
      "metadata": {
        "id": "8bPV9aEwTKC8"
      },
      "execution_count": null,
      "outputs": []
    },
    {
      "cell_type": "code",
      "source": [
        "RANDOM_SEED = 0x0"
      ],
      "metadata": {
        "id": "jFHJbjkfeepf"
      },
      "execution_count": null,
      "outputs": []
    },
    {
      "cell_type": "markdown",
      "source": [
        "# TASK 1 (2 Points): \n",
        "\n",
        "We work with the \"Wine Recognition\" dataset. You can read more about this dataset at [https://scikit-learn.org/stable/datasets/toy_dataset.html#wine-recognition-dataset](https://scikit-learn.org/stable/datasets/toy_dataset.html#wine-recognition-dataset).\n",
        "\n",
        "The data is the results of a chemical analysis of wines grown in the same region in Italy by three different cultivators.\n",
        "The data is loaded below and split into `data` and `target`. `data` is a `Dataframe` that contains the result of the chemical analysis while `target`contains an integer representing the wine cultivator."
      ],
      "metadata": {
        "id": "ykbI8UnR6PsU"
      }
    },
    {
      "cell_type": "code",
      "source": [
        "from sklearn.datasets import load_wine\n",
        "(data, target) = load_wine(return_X_y=True, as_frame=True)"
      ],
      "metadata": {
        "id": "em6VCOuE6MRU"
      },
      "execution_count": null,
      "outputs": []
    },
    {
      "cell_type": "code",
      "source": [
        "data"
      ],
      "metadata": {
        "id": "HJoAuMNR6MgM"
      },
      "execution_count": null,
      "outputs": []
    },
    {
      "cell_type": "code",
      "source": [
        "target"
      ],
      "metadata": {
        "id": "xrsPKm3w6Mi-"
      },
      "execution_count": null,
      "outputs": []
    },
    {
      "cell_type": "markdown",
      "source": [
        "Next, the data is split into training data and testing data.\n",
        "The training data is used to train the model while the testing data is used to evaluate the model on different data than it was trained for. You will learn later in the course why this is necessary."
      ],
      "metadata": {
        "id": "B3W5r6Se8kXW"
      }
    },
    {
      "cell_type": "code",
      "source": [
        "from sklearn.model_selection import train_test_split\n",
        "\n",
        "X_train, X_test, y_train, y_test = train_test_split(data, target, test_size=0.33, random_state=42)"
      ],
      "metadata": {
        "id": "m1w8dDgw6MoO"
      },
      "execution_count": null,
      "outputs": []
    },
    {
      "cell_type": "markdown",
      "source": [
        "\n",
        "In the following, we define functions to classify the data. We use a [Decision Tree Classifier](https://scikit-learn.org/stable/modules/tree.html#tree) and a [Support Vector Classifier](https://scikit-learn.org/stable/modules/svm.html#svm-classification). You will learn later in the course how these classifiers work."
      ],
      "metadata": {
        "id": "J_eeYvZc-f_n"
      }
    },
    {
      "cell_type": "code",
      "source": [
        "from sklearn.tree import DecisionTreeClassifier\n",
        "from sklearn.svm import SVC\n",
        "from sklearn.metrics import accuracy_score\n",
        "\n",
        "def run_classifier(clf, X_train, y_train, X_test, y_test):\n",
        "  clf.fit(X_train, y_train)\n",
        "  y_test_predicted = clf.predict(X_test)\n",
        "  return accuracy_score(y_test, y_test_predicted)\n",
        "\n",
        "\n",
        "def run_decision_tree(X_train, y_train, X_test, y_test):\n",
        "  clf = DecisionTreeClassifier(random_state=0)\n",
        "  accuracy = run_classifier(clf, X_train, y_train, X_test, y_test)\n",
        "  print(\"The accuracy of the Decision Tree classifier is\", accuracy)\n",
        "\n",
        "def run_svc(X_train, y_train, X_test, y_test):\n",
        "  clf = SVC(random_state=0)\n",
        "  accuracy = run_classifier(clf, X_train, y_train, X_test, y_test)\n",
        "  print(\"The accuracy of the Support Vector classifier is\", accuracy)\n"
      ],
      "metadata": {
        "id": "pvm_zBOe-e_X"
      },
      "execution_count": null,
      "outputs": []
    },
    {
      "cell_type": "markdown",
      "source": [
        "### Task 1a: Classify the data\n",
        "\n",
        "Classify the data by calling the two functions `run_decision_tree` and `run_svc`.\n",
        "Which classifier works better (i.e. achieves the higher accuracy)?"
      ],
      "metadata": {
        "id": "s1MS2D8LAMpD"
      }
    },
    {
      "cell_type": "code",
      "source": [
        "run_decision_tree(X_train, y_train, X_test, y_test)"
      ],
      "metadata": {
        "id": "5ToW8fx4ANZ8"
      },
      "execution_count": null,
      "outputs": []
    },
    {
      "cell_type": "code",
      "source": [
        "run_svc(X_train, y_train, X_test, y_test)"
      ],
      "metadata": {
        "id": "gherZ9tS9eX0"
      },
      "execution_count": null,
      "outputs": []
    },
    {
      "cell_type": "code",
      "source": [
        "# The decision Tree classifer is more accurate with 96%"
      ],
      "metadata": {
        "id": "LKj3NlBM91xD"
      },
      "execution_count": null,
      "outputs": []
    },
    {
      "cell_type": "markdown",
      "source": [],
      "metadata": {
        "id": "0uDIvB-Y9OCy"
      }
    },
    {
      "cell_type": "markdown",
      "source": [
        "### Task 1b: Normalize the data with mean and standard deviation\n",
        "\n",
        "Normalize the training and testing data using the following formula:\n",
        "\n",
        "$$X_{normalized} = \\frac{X-\\mu_X}{\\sigma_X}$$\n",
        "\n",
        "Calculate the mean and standard deviation __on the training data__ only (also when you normalize the testing dataset).\n",
        "\n",
        "`Pandas` provides built-in functions to calculate the average and the standard deviation. For example, `X_train.mean()` returns the average value per feature in the training dataset while `X_train.std()` returns the standard deviation per feature."
      ],
      "metadata": {
        "id": "BbM8OUZFBRGH"
      }
    },
    {
      "cell_type": "code",
      "source": [
        "mean_standard_normalization_train = (X_train - X_train.mean())/X_train.std()\n",
        "mean_standard_normalization_test = (X_test - X_train.mean())/X_train.std()\n"
      ],
      "metadata": {
        "id": "MVkTp82o9rfb"
      },
      "execution_count": null,
      "outputs": []
    },
    {
      "cell_type": "code",
      "source": [
        "run_decision_tree(mean_standard_normalization_train, y_train, mean_standard_normalization_test, y_test)"
      ],
      "metadata": {
        "id": "K0qkP9TqBRft"
      },
      "execution_count": null,
      "outputs": []
    },
    {
      "cell_type": "markdown",
      "source": [
        "Call the two classification functions again with the normalized data and report the changes in accuracy. What do you notice?"
      ],
      "metadata": {
        "id": "_fNuBgC6BSFt"
      }
    },
    {
      "cell_type": "code",
      "source": [
        "run_svc(mean_standard_normalization_train, y_train, mean_standard_normalization_test, y_test)"
      ],
      "metadata": {
        "id": "TFg6WbmgBShk"
      },
      "execution_count": null,
      "outputs": []
    },
    {
      "cell_type": "code",
      "source": [
        "#Now the support vector classifier is more accurate with 98%"
      ],
      "metadata": {
        "id": "UAQCBYi3_vVS"
      },
      "execution_count": null,
      "outputs": []
    },
    {
      "cell_type": "markdown",
      "source": [
        "### Task 1c: Repeat Task 1b with min-max Normalization\n",
        "\n",
        "Repeat the task 1b but use the following formula to normalize tha data:\n",
        "\n",
        "$$X_{normalized} = \\frac{X-X_{min}}{X_{max} - X_{min}}$$\n",
        "\n",
        "Again, calculate the mean and standard deviation __on the training data__ only (also when you normalize the testing dataset) and use the built-in function `X_train.min()` resp. `X_train.max()`."
      ],
      "metadata": {
        "id": "1_1EVF-TBS7v"
      }
    },
    {
      "cell_type": "code",
      "source": [
        "normalized_min_max_train = (X_train - X_train.min())/X_train.max()\n",
        "normalized_min_max_test = (X_test- X_train.min())/X_train.max()\n",
        "run_svc(mean_standard_normalization_train, y_train, mean_standard_normalization_test, y_test)\n",
        "run_decision_tree(mean_standard_normalization_train, y_train, mean_standard_normalization_test, y_test)"
      ],
      "metadata": {
        "id": "i25XenppJ7gf"
      },
      "execution_count": null,
      "outputs": []
    },
    {
      "cell_type": "code",
      "source": [
        "#Same as in 1b, support vector classifier is more accurate with 98%"
      ],
      "metadata": {
        "id": "BWYHzD5jA3zy"
      },
      "execution_count": null,
      "outputs": []
    },
    {
      "cell_type": "markdown",
      "source": [
        "### Task 1c: Repeat Task 1b with min-max Normalization\n",
        "\n",
        "Repeat the task 1b but use the following formula to normalize tha data:\n",
        "\n",
        "$$X_{normalized} = \\frac{X-X_{min}}{X_{max} - X_{min}}$$\n",
        "\n",
        "Again, calculate the mean and standard deviation __on the training data__ only (also when you normalize the testing dataset) and use the built-in function `X_train.min()` resp. `X_train.max()`."
      ],
      "metadata": {
        "id": "IXBwwf_xAd2H"
      }
    },
    {
      "cell_type": "markdown",
      "source": [
        "### Task 1c: Repeat Task 1b with min-max Normalization\n",
        "\n",
        "Repeat the task 1b but use the following formula to normalize tha data:\n",
        "\n",
        "$$X_{normalized} = \\frac{X-X_{min}}{X_{max} - X_{min}}$$\n",
        "\n",
        "Again, calculate the mean and standard deviation __on the training data__ only (also when you normalize the testing dataset) and use the built-in function `X_train.min()` resp. `X_train.max()`."
      ],
      "metadata": {
        "id": "ZHxjhg_JAc9o"
      }
    },
    {
      "cell_type": "markdown",
      "source": [
        "Call the two classification functions again with the normalized data and report the changes in accuracy. What do you notice?"
      ],
      "metadata": {
        "id": "NIy0ECbTJ7gq"
      }
    },
    {
      "cell_type": "code",
      "source": [
        "normalized_min_max_train = (X_train - X_train.min())/X_train.max()\n",
        "normalized_min_max_test = (X_test- X_train.min())/X_train.max()\n",
        "run_svc(mean_standard_normalization_train, y_train, mean_standard_normalization_test, y_test)\n",
        "run_decision_tree(mean_standard_normalization_train, y_train, mean_standard_normalization_test, y_test)"
      ],
      "metadata": {
        "id": "99uuR7ngJ7gr"
      },
      "execution_count": null,
      "outputs": []
    },
    {
      "cell_type": "markdown",
      "source": [
        "## 📢 **HAND-IN** 📢: Report on Moodle whether you solved this task."
      ],
      "metadata": {
        "id": "c_i1aBh6KnWw"
      }
    },
    {
      "cell_type": "markdown",
      "source": [
        "---\n",
        "# TASK 2 (2 Points): \n",
        "\n",
        "In Task 1 we clearly saw that normalization improves the result for Support Vector Classifiers but not for Decision Trees. You will learn later in the course why Decision Trees don't need normalization.\n",
        "\n",
        "However, to better understand the influence of normalization, we will plot the data with and without normalization.\n"
      ],
      "metadata": {
        "id": "m7I1RBjQK7Ly"
      }
    },
    {
      "cell_type": "code",
      "source": [
        "import seaborn as sns\n",
        "sns.set_theme(style=\"ticks\")\n",
        "from sklearn.datasets import load_wine\n",
        "(data, target) = load_wine(return_X_y=True, as_frame=True)\n",
        "from sklearn.model_selection import train_test_split\n",
        "X_train, X_test, y_train, y_test = train_test_split(data, target, test_size=0.33, random_state=42)"
      ],
      "metadata": {
        "id": "w9qp3e4nBTPK"
      },
      "execution_count": null,
      "outputs": []
    },
    {
      "cell_type": "markdown",
      "source": [
        "### Task 2a: Plot the unnormalized data\n",
        "\n",
        "For simplicity, we only consider only the columns `alcohol` and `malic_acid` from the training dataset.\n",
        "\n",
        "Create a [Scatterplot](https://seaborn.pydata.org/generated/seaborn.scatterplot.html) from the data with  the attribute `alcohol` on the `x`-axis and `malic_acid` on the `y`-axis.\n",
        "\n",
        "Plot the un-normalized data `X_train` as well as the two noramlized versions from Exercise 1 in the same plot and describe what happens.\n",
        "\n",
        "__Hint:__ To visualize the data distribution in the same plot just call `sns.scatterplot` three times within the same code-cell."
      ],
      "metadata": {
        "id": "tnF26SbCNCRS"
      }
    },
    {
      "cell_type": "code",
      "source": [
        "\n",
        "sns.scatterplot(X_train.alcohol, X_train.malic_acid)\n",
        "sns.scatterplot(normalized_min_max_train.alcohol, normalized_min_max_train.malic_acid)\n",
        "sns.scatterplot(mean_standard_normalization_train.alcohol, mean_standard_normalization_train.malic_acid)\n",
        "\n",
        "\n"
      ],
      "metadata": {
        "id": "-lc07hbiOvYu"
      },
      "execution_count": null,
      "outputs": []
    },
    {
      "cell_type": "markdown",
      "source": [
        "We will now have a closer look at the data. Calculate for the un-normalized data as well as for the two normalized versions of data\n",
        "\n",
        "- The average value in the column `avg(alcohol)`\n",
        "- The standard deviation in the column `std(alcohol)`\n",
        "- The minimum value in the column `min(alcohol)`\n",
        "- The maxmium value in the column `max(alcohol)`\n",
        "- The range in the column by subtracting the minimum of the maximum in the column `max(alcohol) - min(alcohol)`\n",
        "\n",
        "Compare the properties of the un-normalized data with the normalized data. What do you notice?"
      ],
      "metadata": {
        "id": "pJ5Ncd5cN-9z"
      }
    },
    {
      "cell_type": "code",
      "source": [
        "mean_alc = X_train.alcohol.mean()\n",
        "print(\"mean_alc\",mean_alc)\n",
        "mean_norm_stand = mean_standard_normalization_train.alcohol.mean()\n",
        "print(\"mean_norm_stand\",mean_norm_stand)\n",
        "mean_min_norm = normalized_min_max_train.alcohol.mean()\n",
        "print(\"mean_min_norm\",mean_min_norm)\n",
        "\n",
        "\n"
      ],
      "metadata": {
        "id": "J3D06pyKQjGq"
      },
      "execution_count": null,
      "outputs": []
    },
    {
      "cell_type": "code",
      "source": [
        "std_alc = X_train.alcohol.std()\n",
        "print(\"std_alc\",std_alc)\n",
        "std_norm_stand = mean_standard_normalization_train.alcohol.std()\n",
        "print(\"std_norm_stand\",std_norm_stand)\n",
        "std_min_norm = normalized_min_max_train.alcohol.std()\n",
        "print(\"std_min_norm\",std_min_norm)\n",
        "\n",
        "\n"
      ],
      "metadata": {
        "id": "FZ9II-WlLsCa"
      },
      "execution_count": null,
      "outputs": []
    },
    {
      "cell_type": "code",
      "source": [
        "\n",
        "min_alc = X_train.alcohol.min()\n",
        "print(\"min_alc\",min_alc)\n",
        "min_norm_stand = mean_standard_normalization_train.alcohol.min()\n",
        "print(\"min_norm_stand\",min_norm_stand)\n",
        "min_min_norm = normalized_min_max_train.alcohol.min()\n",
        "print(\"min_min_norm\",min_min_norm)\n",
        "\n",
        "\n",
        "\n"
      ],
      "metadata": {
        "id": "eQs3uAvtL45P"
      },
      "execution_count": null,
      "outputs": []
    },
    {
      "cell_type": "code",
      "source": [
        "max_alc = X_train.alcohol.max()\n",
        "print(\"max_alc\",max_alc)\n",
        "max_norm_stand = mean_standard_normalization_train.alcohol.max()\n",
        "print(\"max_norm_stand\",max_norm_stand)\n",
        "max_min_norm = normalized_min_max_train.alcohol.max()\n",
        "print(\"max_min_norm\",max_min_norm)\n",
        "\n",
        "\n",
        "print(max_alc - min_alc)"
      ],
      "metadata": {
        "id": "D70y4vqIMqgl"
      },
      "execution_count": null,
      "outputs": []
    },
    {
      "cell_type": "markdown",
      "source": [
        "## 📢 **HAND-IN** 📢: Report on Moodle whether you solved this task.\n",
        "\n",
        "---"
      ],
      "metadata": {
        "id": "AH7H07ZcSniv"
      }
    },
    {
      "cell_type": "markdown",
      "source": [
        "# TASK 3 (6 Points): Binning\n",
        "\n"
      ],
      "metadata": {
        "id": "UT3_BLJDl-0o"
      }
    },
    {
      "cell_type": "markdown",
      "metadata": {
        "id": "q7K4Cikz4aZE"
      },
      "source": [
        "The following list consists of the age of several people: \n",
        "```python\n",
        "[13, 15, 16, 18, 19, 20, 20, 21, 22, 22, 25, 25, 26, 26, 30, 33, 34, 35, 35, 35, 36, 37, 40, 42, 46, 53, 70]\n",
        "```"
      ]
    },
    {
      "cell_type": "markdown",
      "metadata": {
        "id": "lsHmNGlW4aZE"
      },
      "source": [
        "### Task 3a: Equal-Width Binning\n",
        "Apply binning to the dataset using 3 equal-width bins. Smooth the data using the mean of the bins.\n",
        "\n",
        "Tips:\n",
        "1. Calculate the size of the bins\n",
        "2. Assign each value to the corresponding bin\n",
        "3. Calculate the mean per bin\n",
        "4. Replace each value by the mean of its bin\n",
        "\n",
        "__Solve this exercise by hand without using Python__"
      ]
    },
    {
      "cell_type": "markdown",
      "metadata": {
        "id": "eukBUnVs4aZE"
      },
      "source": [
        "❗ TODO ❗"
      ]
    },
    {
      "cell_type": "markdown",
      "metadata": {
        "id": "8UL9OUG44aZF"
      },
      "source": [
        "###Task 3b: Equal-Depth Binning\n",
        "\n",
        "Apply binning to the dataset using 3 equal-depth bins. Smooth the data using the mean of the bins. Explain the steps of your approach and give the final result.\n",
        "\n",
        "Tips:\n",
        "1. Calculate the number of elements per bin\n",
        "2. Assign each value to the corresponding bin\n",
        "3. Calculate the mean per bin\n",
        "4. Replace each value by the mean of its bin\n",
        "\n",
        "__Please solve this exercise by hand without using Python__ "
      ]
    },
    {
      "cell_type": "markdown",
      "metadata": {
        "id": "Vhf3wkSm4aZF"
      },
      "source": [
        "\n",
        "❗ TODO ❗"
      ]
    },
    {
      "cell_type": "markdown",
      "source": [
        "## 📢 **HAND-IN** 📢: Describe on Moodle the results of Exercise 3: \n",
        "\n",
        "* Copy the results of Exercise 3a and 3b to Moodle\n",
        "* Describe the differences between task 3a and task 3b\n",
        "* Describe situations when binning should be used and give a concrete example. Are there also circumstances in which binning should not be applied?"
      ],
      "metadata": {
        "id": "ex21HuPTl_Qx"
      }
    }
  ]
}